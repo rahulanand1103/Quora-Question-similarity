{
 "cells": [
  {
   "cell_type": "code",
   "execution_count": 3,
   "metadata": {
    "colab": {
     "base_uri": "https://localhost:8080/",
     "height": 74
    },
    "colab_type": "code",
    "executionInfo": {
     "elapsed": 2579,
     "status": "ok",
     "timestamp": 1569552825080,
     "user": {
      "displayName": "Prince",
      "photoUrl": "",
      "userId": "13948313668249168316"
     },
     "user_tz": -330
    },
    "id": "6VXPfRp-tARR",
    "outputId": "c6693fa0-8deb-4e6f-ef61-4da50ca06dcb"
   },
   "outputs": [
    {
     "name": "stderr",
     "output_type": "stream",
     "text": [
      "/usr/local/lib/python3.6/dist-packages/sklearn/externals/six.py:31: DeprecationWarning: The module is deprecated in version 0.21 and will be removed in version 0.23 since we've dropped support for Python 2.7. Please rely on the official version of six (https://pypi.org/project/six/).\n",
      "  \"(https://pypi.org/project/six/).\", DeprecationWarning)\n"
     ]
    }
   ],
   "source": [
    "import pandas as pd\n",
    "import matplotlib.pyplot as plt\n",
    "import re\n",
    "import time\n",
    "import warnings\n",
    "import sqlite3\n",
    "from sqlalchemy import create_engine # database connection\n",
    "import csv\n",
    "import os\n",
    "warnings.filterwarnings(\"ignore\")\n",
    "import datetime as dt\n",
    "import numpy as np\n",
    "from nltk.corpus import stopwords\n",
    "from sklearn.decomposition import TruncatedSVD\n",
    "from sklearn.preprocessing import normalize\n",
    "from sklearn.feature_extraction.text import CountVectorizer\n",
    "from sklearn.manifold import TSNE\n",
    "import seaborn as sns\n",
    "from sklearn.neighbors import KNeighborsClassifier\n",
    "from sklearn.metrics import confusion_matrix\n",
    "from sklearn.metrics.classification import accuracy_score, log_loss\n",
    "from sklearn.feature_extraction.text import TfidfVectorizer\n",
    "from collections import Counter\n",
    "from scipy.sparse import hstack\n",
    "from sklearn.multiclass import OneVsRestClassifier\n",
    "from sklearn.svm import SVC\n",
    "from sklearn.model_selection import StratifiedKFold \n",
    "from collections import Counter, defaultdict\n",
    "from sklearn.calibration import CalibratedClassifierCV\n",
    "from sklearn.naive_bayes import MultinomialNB\n",
    "from sklearn.naive_bayes import GaussianNB\n",
    "from sklearn.model_selection import train_test_split\n",
    "from sklearn.model_selection import GridSearchCV\n",
    "from sklearn.model_selection import RandomizedSearchCV\n",
    "import math\n",
    "from sklearn.metrics import normalized_mutual_info_score\n",
    "from sklearn.ensemble import RandomForestClassifier\n",
    "\n",
    "\n",
    "from prettytable import PrettyTable\n",
    "from sklearn.model_selection import cross_val_score\n",
    "from sklearn.linear_model import SGDClassifier\n",
    "from mlxtend.classifier import StackingClassifier\n",
    "\n",
    "from sklearn import model_selection\n",
    "from sklearn.linear_model import LogisticRegression\n",
    "from sklearn.metrics import precision_recall_curve, auc, roc_curve"
   ]
  },
  {
   "cell_type": "markdown",
   "metadata": {
    "colab_type": "text",
    "id": "ZihvUPvHtARd"
   },
   "source": [
    "<h1>4. Machine Learning Models </h1>"
   ]
  },
  {
   "cell_type": "markdown",
   "metadata": {
    "colab_type": "text",
    "id": "CtN9VBPutARf"
   },
   "source": [
    "<h2> 4.1 Reading data from file</h2>"
   ]
  },
  {
   "cell_type": "code",
   "execution_count": null,
   "metadata": {},
   "outputs": [],
   "source": [
    "df=pd.read_csv('final_features.csv', \n",
    "                          names=['Unnamed: 0','id','is_duplicate','cwc_min','cwc_max','csc_min','csc_max','ctc_min','ctc_max','last_word_eq','first_word_eq','abs_len_diff','mean_len','token_set_ratio','token_sort_ratio','fuzz_ratio','fuzz_partial_ratio','longest_substr_ratio','freq_qid1','freq_qid2','q1len','q2len','q1_n_words','q2_n_words','word_Common','word_Total','word_share','freq_q1+q2','freq_q1-q2','0_x','1_x','2_x','3_x','4_x','5_x','6_x','7_x','8_x','9_x','10_x','11_x','12_x','13_x','14_x','15_x','16_x','17_x','18_x','19_x','20_x','21_x','22_x','23_x','24_x','25_x','26_x','27_x','28_x','29_x','30_x','31_x','32_x','33_x','34_x','35_x','36_x','37_x','38_x','39_x','40_x','41_x','42_x','43_x','44_x','45_x','46_x','47_x','48_x','49_x','50_x','51_x','52_x','53_x','54_x','55_x','56_x','57_x','58_x','59_x','60_x','61_x','62_x','63_x','64_x','65_x','66_x','67_x','68_x','69_x','70_x','71_x','72_x','73_x','74_x','75_x','76_x','77_x','78_x','79_x','80_x','81_x','82_x','83_x','84_x','85_x','86_x','87_x','88_x','89_x','90_x','91_x','92_x','93_x','94_x','95_x','96_x','97_x','98_x','99_x','100_x','101_x','102_x','103_x','104_x','105_x','106_x','107_x','108_x','109_x','110_x','111_x','112_x','113_x','114_x','115_x','116_x','117_x','118_x','119_x','120_x','121_x','122_x','123_x','124_x','125_x','126_x','127_x','128_x','129_x','130_x','131_x','132_x','133_x','134_x','135_x','136_x','137_x','138_x','139_x','140_x','141_x','142_x','143_x','144_x','145_x','146_x','147_x','148_x','149_x','150_x','151_x','152_x','153_x','154_x','155_x','156_x','157_x','158_x','159_x','160_x','161_x','162_x','163_x','164_x','165_x','166_x','167_x','168_x','169_x','170_x','171_x','172_x','173_x','174_x','175_x','176_x','177_x','178_x','179_x','180_x','181_x','182_x','183_x','184_x','185_x','186_x','187_x','188_x','189_x','190_x','191_x','192_x','193_x','194_x','195_x','196_x','197_x','198_x','199_x','200_x','201_x','202_x','203_x','204_x','205_x','206_x','207_x','208_x','209_x','210_x','211_x','212_x','213_x','214_x','215_x','216_x','217_x','218_x','219_x','220_x','221_x','222_x','223_x','224_x','225_x','226_x','227_x','228_x','229_x','230_x','231_x','232_x','233_x','234_x','235_x','236_x','237_x','238_x','239_x','240_x','241_x','242_x','243_x','244_x','245_x','246_x','247_x','248_x','249_x','250_x','251_x','252_x','253_x','254_x','255_x','256_x','257_x','258_x','259_x','260_x','261_x','262_x','263_x','264_x','265_x','266_x','267_x','268_x','269_x','270_x','271_x','272_x','273_x','274_x','275_x','276_x','277_x','278_x','279_x','280_x','281_x','282_x','283_x','284_x','285_x','286_x','287_x','288_x','289_x','290_x','291_x','292_x','293_x','294_x','295_x','296_x','297_x','298_x','299_x','300_x','301_x','302_x','303_x','304_x','305_x','306_x','307_x','308_x','309_x','310_x','311_x','312_x','313_x','314_x','315_x','316_x','317_x','318_x','319_x','320_x','321_x','322_x','323_x','324_x','325_x','326_x','327_x','328_x','329_x','330_x','331_x','332_x','333_x','334_x','335_x','336_x','337_x','338_x','339_x','340_x','341_x','342_x','343_x','344_x','345_x','346_x','347_x','348_x','349_x','350_x','351_x','352_x','353_x','354_x','355_x','356_x','357_x','358_x','359_x','360_x','361_x','362_x','363_x','364_x','365_x','366_x','367_x','368_x','369_x','370_x','371_x','372_x','373_x','374_x','375_x','376_x','377_x','378_x','379_x','380_x','381_x','382_x','383_x','0_y','1_y','2_y','3_y','4_y','5_y','6_y','7_y','8_y','9_y','10_y','11_y','12_y','13_y','14_y','15_y','16_y','17_y','18_y','19_y','20_y','21_y','22_y','23_y','24_y','25_y','26_y','27_y','28_y','29_y','30_y','31_y','32_y','33_y','34_y','35_y','36_y','37_y','38_y','39_y','40_y','41_y','42_y','43_y','44_y','45_y','46_y','47_y','48_y','49_y','50_y','51_y','52_y','53_y','54_y','55_y','56_y','57_y','58_y','59_y','60_y','61_y','62_y','63_y','64_y','65_y','66_y','67_y','68_y','69_y','70_y','71_y','72_y','73_y','74_y','75_y','76_y','77_y','78_y','79_y','80_y','81_y','82_y','83_y','84_y','85_y','86_y','87_y','88_y','89_y','90_y','91_y','92_y','93_y','94_y','95_y','96_y','97_y','98_y','99_y','100_y','101_y','102_y','103_y','104_y','105_y','106_y','107_y','108_y','109_y','110_y','111_y','112_y','113_y','114_y','115_y','116_y','117_y','118_y','119_y','120_y','121_y','122_y','123_y','124_y','125_y','126_y','127_y','128_y','129_y','130_y','131_y','132_y','133_y','134_y','135_y','136_y','137_y','138_y','139_y','140_y','141_y','142_y','143_y','144_y','145_y','146_y','147_y','148_y','149_y','150_y','151_y','152_y','153_y','154_y','155_y','156_y','157_y','158_y','159_y','160_y','161_y','162_y','163_y','164_y','165_y','166_y','167_y','168_y','169_y','170_y','171_y','172_y','173_y','174_y','175_y','176_y','177_y','178_y','179_y','180_y','181_y','182_y','183_y','184_y','185_y','186_y','187_y','188_y','189_y','190_y','191_y','192_y','193_y','194_y','195_y','196_y','197_y','198_y','199_y','200_y','201_y','202_y','203_y','204_y','205_y','206_y','207_y','208_y','209_y','210_y','211_y','212_y','213_y','214_y','215_y','216_y','217_y','218_y','219_y','220_y','221_y','222_y','223_y','224_y','225_y','226_y','227_y','228_y','229_y','230_y','231_y','232_y','233_y','234_y','235_y','236_y','237_y','238_y','239_y','240_y','241_y','242_y','243_y','244_y','245_y','246_y','247_y','248_y','249_y','250_y','251_y','252_y','253_y','254_y','255_y','256_y','257_y','258_y','259_y','260_y','261_y','262_y','263_y','264_y','265_y','266_y','267_y','268_y','269_y','270_y','271_y','272_y','273_y','274_y','275_y','276_y','277_y','278_y','279_y','280_y','281_y','282_y','283_y','284_y','285_y','286_y','287_y','288_y','289_y','290_y','291_y','292_y','293_y','294_y','295_y','296_y','297_y','298_y','299_y','300_y','301_y','302_y','303_y','304_y','305_y','306_y','307_y','308_y','309_y','310_y','311_y','312_y','313_y','314_y','315_y','316_y','317_y','318_y','319_y','320_y','321_y','322_y','323_y','324_y','325_y','326_y','327_y','328_y','329_y','330_y','331_y','332_y','333_y','334_y','335_y','336_y','337_y','338_y','339_y','340_y','341_y','342_y','343_y','344_y','345_y','346_y','347_y','348_y','349_y','350_y','351_y','352_y','353_y','354_y','355_y','356_y','357_y','358_y','359_y','360_y','361_y','362_y','363_y','364_y','365_y','366_y','367_y','368_y','369_y','370_y','371_y','372_y','373_y','374_y','375_y','376_y','377_y','378_y','379_y','380_y','381_y','382_y','383_y'], \n",
    "                          encoding='utf-8', )"
   ]
  },
  {
   "cell_type": "code",
   "execution_count": 0,
   "metadata": {
    "colab": {
     "base_uri": "https://localhost:8080/",
     "height": 54
    },
    "colab_type": "code",
    "executionInfo": {
     "elapsed": 2613,
     "status": "ok",
     "timestamp": 1569077530723,
     "user": {
      "displayName": "Prince",
      "photoUrl": "",
      "userId": "13948313668249168316"
     },
     "user_tz": -330
    },
    "id": "nR8ZIUnttARs",
    "outputId": "ce7b6bd8-b58a-4ee0-f6d0-643b54bdd763"
   },
   "outputs": [
    {
     "name": "stdout",
     "output_type": "stream",
     "text": [
      "Tables in the databse:\n",
      "data\n"
     ]
    }
   ],
   "source": [
    "#selecting only 50000 due to memory constrains\n",
    "df=df.head(50000)"
   ]
  },
  {
   "cell_type": "code",
   "execution_count": 0,
   "metadata": {
    "colab": {},
    "colab_type": "code",
    "id": "ZkeBKktKtAR3"
   },
   "outputs": [],
   "source": [
    "# remove the first row \n",
    "data.drop(data.index[0], inplace=True)\n",
    "y_true = data['is_duplicate']\n",
    "data.drop(['Unnamed: 0', 'id','index','is_duplicate'], axis=1, inplace=True)"
   ]
  },
  {
   "cell_type": "code",
   "execution_count": 0,
   "metadata": {
    "colab": {
     "base_uri": "https://localhost:8080/",
     "height": 35
    },
    "colab_type": "code",
    "executionInfo": {
     "elapsed": 175977,
     "status": "ok",
     "timestamp": 1569077706635,
     "user": {
      "displayName": "Prince",
      "photoUrl": "",
      "userId": "13948313668249168316"
     },
     "user_tz": -330
    },
    "id": "O4HmaxNPH8gl",
    "outputId": "a4d7ad9c-e49a-4981-b140-e0435a908b3f"
   },
   "outputs": [
    {
     "data": {
      "text/plain": [
       "(50000, 794)"
      ]
     },
     "execution_count": 10,
     "metadata": {
      "tags": []
     },
     "output_type": "execute_result"
    }
   ],
   "source": [
    "data.shape"
   ]
  },
  {
   "cell_type": "code",
   "execution_count": 0,
   "metadata": {
    "colab": {
     "base_uri": "https://localhost:8080/",
     "height": 265
    },
    "colab_type": "code",
    "executionInfo": {
     "elapsed": 175301,
     "status": "ok",
     "timestamp": 1569077706636,
     "user": {
      "displayName": "Prince",
      "photoUrl": "",
      "userId": "13948313668249168316"
     },
     "user_tz": -330
    },
    "id": "QKSenpsmtAR9",
    "outputId": "bfa6779c-1f8d-44ec-c05a-85ac83e08075"
   },
   "outputs": [
    {
     "data": {
      "text/html": [
       "<div>\n",
       "<style scoped>\n",
       "    .dataframe tbody tr th:only-of-type {\n",
       "        vertical-align: middle;\n",
       "    }\n",
       "\n",
       "    .dataframe tbody tr th {\n",
       "        vertical-align: top;\n",
       "    }\n",
       "\n",
       "    .dataframe thead th {\n",
       "        text-align: right;\n",
       "    }\n",
       "</style>\n",
       "<table border=\"1\" class=\"dataframe\">\n",
       "  <thead>\n",
       "    <tr style=\"text-align: right;\">\n",
       "      <th></th>\n",
       "      <th>cwc_min</th>\n",
       "      <th>cwc_max</th>\n",
       "      <th>csc_min</th>\n",
       "      <th>csc_max</th>\n",
       "      <th>ctc_min</th>\n",
       "      <th>ctc_max</th>\n",
       "      <th>last_word_eq</th>\n",
       "      <th>first_word_eq</th>\n",
       "      <th>abs_len_diff</th>\n",
       "      <th>mean_len</th>\n",
       "      <th>token_set_ratio</th>\n",
       "      <th>token_sort_ratio</th>\n",
       "      <th>fuzz_ratio</th>\n",
       "      <th>fuzz_partial_ratio</th>\n",
       "      <th>longest_substr_ratio</th>\n",
       "      <th>freq_qid1</th>\n",
       "      <th>freq_qid2</th>\n",
       "      <th>q1len</th>\n",
       "      <th>q2len</th>\n",
       "      <th>q1_n_words</th>\n",
       "      <th>q2_n_words</th>\n",
       "      <th>word_Common</th>\n",
       "      <th>word_Total</th>\n",
       "      <th>word_share</th>\n",
       "      <th>freq_q1+q2</th>\n",
       "      <th>freq_q1-q2</th>\n",
       "      <th>0_x</th>\n",
       "      <th>1_x</th>\n",
       "      <th>2_x</th>\n",
       "      <th>3_x</th>\n",
       "      <th>4_x</th>\n",
       "      <th>5_x</th>\n",
       "      <th>6_x</th>\n",
       "      <th>7_x</th>\n",
       "      <th>8_x</th>\n",
       "      <th>9_x</th>\n",
       "      <th>10_x</th>\n",
       "      <th>11_x</th>\n",
       "      <th>12_x</th>\n",
       "      <th>13_x</th>\n",
       "      <th>...</th>\n",
       "      <th>344_y</th>\n",
       "      <th>345_y</th>\n",
       "      <th>346_y</th>\n",
       "      <th>347_y</th>\n",
       "      <th>348_y</th>\n",
       "      <th>349_y</th>\n",
       "      <th>350_y</th>\n",
       "      <th>351_y</th>\n",
       "      <th>352_y</th>\n",
       "      <th>353_y</th>\n",
       "      <th>354_y</th>\n",
       "      <th>355_y</th>\n",
       "      <th>356_y</th>\n",
       "      <th>357_y</th>\n",
       "      <th>358_y</th>\n",
       "      <th>359_y</th>\n",
       "      <th>360_y</th>\n",
       "      <th>361_y</th>\n",
       "      <th>362_y</th>\n",
       "      <th>363_y</th>\n",
       "      <th>364_y</th>\n",
       "      <th>365_y</th>\n",
       "      <th>366_y</th>\n",
       "      <th>367_y</th>\n",
       "      <th>368_y</th>\n",
       "      <th>369_y</th>\n",
       "      <th>370_y</th>\n",
       "      <th>371_y</th>\n",
       "      <th>372_y</th>\n",
       "      <th>373_y</th>\n",
       "      <th>374_y</th>\n",
       "      <th>375_y</th>\n",
       "      <th>376_y</th>\n",
       "      <th>377_y</th>\n",
       "      <th>378_y</th>\n",
       "      <th>379_y</th>\n",
       "      <th>380_y</th>\n",
       "      <th>381_y</th>\n",
       "      <th>382_y</th>\n",
       "      <th>383_y</th>\n",
       "    </tr>\n",
       "  </thead>\n",
       "  <tbody>\n",
       "    <tr>\n",
       "      <th>1</th>\n",
       "      <td>0.999950002499875</td>\n",
       "      <td>0.181816528940646</td>\n",
       "      <td>0.66664444518516</td>\n",
       "      <td>0.285710204139941</td>\n",
       "      <td>0.799984000319994</td>\n",
       "      <td>0.199999000005</td>\n",
       "      <td>0.0</td>\n",
       "      <td>1.0</td>\n",
       "      <td>15.0</td>\n",
       "      <td>12.5</td>\n",
       "      <td>94</td>\n",
       "      <td>41</td>\n",
       "      <td>33</td>\n",
       "      <td>66</td>\n",
       "      <td>0.333333333333333</td>\n",
       "      <td>1</td>\n",
       "      <td>1</td>\n",
       "      <td>114</td>\n",
       "      <td>29</td>\n",
       "      <td>19</td>\n",
       "      <td>5</td>\n",
       "      <td>2.0</td>\n",
       "      <td>22.0</td>\n",
       "      <td>0.0909090909090909</td>\n",
       "      <td>2</td>\n",
       "      <td>0</td>\n",
       "      <td>-85.3459591418505</td>\n",
       "      <td>125.568486452103</td>\n",
       "      <td>31.876295812428</td>\n",
       "      <td>96.7472469210625</td>\n",
       "      <td>-79.3873648643494</td>\n",
       "      <td>27.79312479496</td>\n",
       "      <td>-177.160131514072</td>\n",
       "      <td>-180.27711391449</td>\n",
       "      <td>65.2375163435936</td>\n",
       "      <td>-19.5468770265579</td>\n",
       "      <td>-8.98709356784821</td>\n",
       "      <td>-58.4933117330074</td>\n",
       "      <td>-102.37943816185</td>\n",
       "      <td>-137.561043977737</td>\n",
       "      <td>...</td>\n",
       "      <td>0.885477647185326</td>\n",
       "      <td>1.53697718307376</td>\n",
       "      <td>-4.67616342590191</td>\n",
       "      <td>-7.10287547111511</td>\n",
       "      <td>12.1149072051048</td>\n",
       "      <td>-4.07698553800583</td>\n",
       "      <td>5.24991947412491</td>\n",
       "      <td>1.96274833381176</td>\n",
       "      <td>6.09013909101486</td>\n",
       "      <td>6.53252662718296</td>\n",
       "      <td>16.9059863835573</td>\n",
       "      <td>13.4571490362287</td>\n",
       "      <td>-9.07376509904862</td>\n",
       "      <td>6.70295213535428</td>\n",
       "      <td>-0.83556717261672</td>\n",
       "      <td>-7.86749815940857</td>\n",
       "      <td>-3.54848426580429</td>\n",
       "      <td>0.905137851834297</td>\n",
       "      <td>-2.39231023192406</td>\n",
       "      <td>3.5617288351059</td>\n",
       "      <td>-6.06533962488174</td>\n",
       "      <td>0.669412223622203</td>\n",
       "      <td>-5.4353698194027</td>\n",
       "      <td>-2.52202244102955</td>\n",
       "      <td>4.6273028254509</td>\n",
       "      <td>1.13940976560116</td>\n",
       "      <td>10.0689018368721</td>\n",
       "      <td>0.990645285695791</td>\n",
       "      <td>4.6208560615778</td>\n",
       "      <td>12.5890067666769</td>\n",
       "      <td>-4.89216141402721</td>\n",
       "      <td>8.35149371623993</td>\n",
       "      <td>0.90499260276556</td>\n",
       "      <td>-2.19234795868397</td>\n",
       "      <td>-5.60868179053068</td>\n",
       "      <td>4.09342328924686</td>\n",
       "      <td>-0.779529765248299</td>\n",
       "      <td>-0.166399898007512</td>\n",
       "      <td>-3.12041002511978</td>\n",
       "      <td>1.29996086657047</td>\n",
       "    </tr>\n",
       "    <tr>\n",
       "      <th>2</th>\n",
       "      <td>0.499987500312492</td>\n",
       "      <td>0.499987500312492</td>\n",
       "      <td>0.599988000239995</td>\n",
       "      <td>0.428565306209911</td>\n",
       "      <td>0.555549382784636</td>\n",
       "      <td>0.454541322351615</td>\n",
       "      <td>1.0</td>\n",
       "      <td>1.0</td>\n",
       "      <td>2.0</td>\n",
       "      <td>10.0</td>\n",
       "      <td>73</td>\n",
       "      <td>71</td>\n",
       "      <td>71</td>\n",
       "      <td>69</td>\n",
       "      <td>0.260869565217391</td>\n",
       "      <td>1</td>\n",
       "      <td>2</td>\n",
       "      <td>47</td>\n",
       "      <td>45</td>\n",
       "      <td>11</td>\n",
       "      <td>9</td>\n",
       "      <td>5.0</td>\n",
       "      <td>20.0</td>\n",
       "      <td>0.25</td>\n",
       "      <td>3</td>\n",
       "      <td>1</td>\n",
       "      <td>28.7152041196823</td>\n",
       "      <td>102.300040125847</td>\n",
       "      <td>61.7901307344437</td>\n",
       "      <td>149.324989385903</td>\n",
       "      <td>2.83177876472473</td>\n",
       "      <td>48.5374240875244</td>\n",
       "      <td>-39.9058465957642</td>\n",
       "      <td>-95.5480947345495</td>\n",
       "      <td>43.1472904384136</td>\n",
       "      <td>4.92888584733009</td>\n",
       "      <td>-40.3215506672859</td>\n",
       "      <td>50.1784988641739</td>\n",
       "      <td>-10.6363410055637</td>\n",
       "      <td>-49.4634605646133</td>\n",
       "      <td>...</td>\n",
       "      <td>-14.2931249700487</td>\n",
       "      <td>-12.5736556127667</td>\n",
       "      <td>-17.2872011214495</td>\n",
       "      <td>10.7184909582138</td>\n",
       "      <td>36.6666896520474</td>\n",
       "      <td>-10.1201016306877</td>\n",
       "      <td>-10.428794439882</td>\n",
       "      <td>6.28767335414887</td>\n",
       "      <td>-17.574275970459</td>\n",
       "      <td>5.44762632250786</td>\n",
       "      <td>24.8633283227682</td>\n",
       "      <td>-8.36484111845493</td>\n",
       "      <td>2.17521238420159</td>\n",
       "      <td>-20.1844358891249</td>\n",
       "      <td>-14.4738538041711</td>\n",
       "      <td>-24.1612150967121</td>\n",
       "      <td>-7.44903835654259</td>\n",
       "      <td>5.69680839776993</td>\n",
       "      <td>14.1035834550858</td>\n",
       "      <td>7.20335249602795</td>\n",
       "      <td>-21.8754424750805</td>\n",
       "      <td>-6.11558823287487</td>\n",
       "      <td>18.6613321304321</td>\n",
       "      <td>-7.0145745575428</td>\n",
       "      <td>20.7445233054459</td>\n",
       "      <td>19.5110548585653</td>\n",
       "      <td>-16.2410762906075</td>\n",
       "      <td>11.1624874323606</td>\n",
       "      <td>-8.4198195040226</td>\n",
       "      <td>-14.8315860331059</td>\n",
       "      <td>10.3469033017755</td>\n",
       "      <td>10.6902670189738</td>\n",
       "      <td>2.59925612807274</td>\n",
       "      <td>-4.90873806690797</td>\n",
       "      <td>6.8922843337059</td>\n",
       "      <td>4.39012718200684</td>\n",
       "      <td>-18.3507874011993</td>\n",
       "      <td>23.3305455297232</td>\n",
       "      <td>-0.964614599943161</td>\n",
       "      <td>0.68968285061419</td>\n",
       "    </tr>\n",
       "    <tr>\n",
       "      <th>3</th>\n",
       "      <td>0.666655555740738</td>\n",
       "      <td>0.571420408279882</td>\n",
       "      <td>0.499987500312492</td>\n",
       "      <td>0.399992000159997</td>\n",
       "      <td>0.545449586821938</td>\n",
       "      <td>0.545449586821938</td>\n",
       "      <td>0.0</td>\n",
       "      <td>0.0</td>\n",
       "      <td>0.0</td>\n",
       "      <td>11.0</td>\n",
       "      <td>73</td>\n",
       "      <td>69</td>\n",
       "      <td>67</td>\n",
       "      <td>67</td>\n",
       "      <td>0.265625</td>\n",
       "      <td>1</td>\n",
       "      <td>4</td>\n",
       "      <td>63</td>\n",
       "      <td>65</td>\n",
       "      <td>11</td>\n",
       "      <td>12</td>\n",
       "      <td>6.0</td>\n",
       "      <td>23.0</td>\n",
       "      <td>0.260869565217391</td>\n",
       "      <td>5</td>\n",
       "      <td>3</td>\n",
       "      <td>-14.4464862942696</td>\n",
       "      <td>81.468402966857</td>\n",
       "      <td>30.4611067771912</td>\n",
       "      <td>133.249725461006</td>\n",
       "      <td>-55.5779926776886</td>\n",
       "      <td>52.8698387145996</td>\n",
       "      <td>-77.0619264617563</td>\n",
       "      <td>-92.2418439388275</td>\n",
       "      <td>34.3037858009338</td>\n",
       "      <td>-28.7990303039551</td>\n",
       "      <td>-50.548225581646</td>\n",
       "      <td>-10.489264190197</td>\n",
       "      <td>-21.9207191467285</td>\n",
       "      <td>-43.5489989519119</td>\n",
       "      <td>...</td>\n",
       "      <td>-2.43974298238754</td>\n",
       "      <td>-20.0534595251083</td>\n",
       "      <td>-17.5960883535445</td>\n",
       "      <td>1.45508454740047</td>\n",
       "      <td>20.2246660292149</td>\n",
       "      <td>-21.1227210462093</td>\n",
       "      <td>-17.3223742395639</td>\n",
       "      <td>-10.3944146633148</td>\n",
       "      <td>-31.0023453235626</td>\n",
       "      <td>25.8265548199415</td>\n",
       "      <td>26.0864016711712</td>\n",
       "      <td>10.4139163615182</td>\n",
       "      <td>-11.7224054038525</td>\n",
       "      <td>-14.2681686356664</td>\n",
       "      <td>10.3104092925787</td>\n",
       "      <td>-26.6746992468834</td>\n",
       "      <td>-25.2058066427708</td>\n",
       "      <td>24.1437789946794</td>\n",
       "      <td>1.95643658190966</td>\n",
       "      <td>-7.1115125566721</td>\n",
       "      <td>-17.1472481489182</td>\n",
       "      <td>6.17532496154308</td>\n",
       "      <td>35.7439393401146</td>\n",
       "      <td>-10.2593070864677</td>\n",
       "      <td>9.32987613976002</td>\n",
       "      <td>-2.21264850348234</td>\n",
       "      <td>6.33599585294724</td>\n",
       "      <td>34.2153151035309</td>\n",
       "      <td>-3.74119085073471</td>\n",
       "      <td>-14.3433989286423</td>\n",
       "      <td>-3.85105261951685</td>\n",
       "      <td>19.2504652142525</td>\n",
       "      <td>20.3883509933949</td>\n",
       "      <td>-11.1053389906883</td>\n",
       "      <td>7.63580176234245</td>\n",
       "      <td>19.7212549448013</td>\n",
       "      <td>0.772680208086968</td>\n",
       "      <td>-0.973012406378984</td>\n",
       "      <td>0.661315619945526</td>\n",
       "      <td>16.5347160324454</td>\n",
       "    </tr>\n",
       "    <tr>\n",
       "      <th>4</th>\n",
       "      <td>0.599988000239995</td>\n",
       "      <td>0.499991666805553</td>\n",
       "      <td>0.999975000624984</td>\n",
       "      <td>0.799984000319994</td>\n",
       "      <td>0.77776913589849</td>\n",
       "      <td>0.636357851292261</td>\n",
       "      <td>1.0</td>\n",
       "      <td>0.0</td>\n",
       "      <td>2.0</td>\n",
       "      <td>10.0</td>\n",
       "      <td>85</td>\n",
       "      <td>84</td>\n",
       "      <td>62</td>\n",
       "      <td>67</td>\n",
       "      <td>0.243243243243243</td>\n",
       "      <td>1</td>\n",
       "      <td>2</td>\n",
       "      <td>47</td>\n",
       "      <td>36</td>\n",
       "      <td>11</td>\n",
       "      <td>9</td>\n",
       "      <td>7.0</td>\n",
       "      <td>20.0</td>\n",
       "      <td>0.35</td>\n",
       "      <td>3</td>\n",
       "      <td>1</td>\n",
       "      <td>45.1597325056791</td>\n",
       "      <td>23.0066236257553</td>\n",
       "      <td>-15.6376709342003</td>\n",
       "      <td>59.2939745187759</td>\n",
       "      <td>-18.4834046959877</td>\n",
       "      <td>16.7836152091622</td>\n",
       "      <td>-61.1630162596703</td>\n",
       "      <td>46.5569097837433</td>\n",
       "      <td>74.2646427154541</td>\n",
       "      <td>12.0660248994827</td>\n",
       "      <td>-15.0384992361069</td>\n",
       "      <td>-3.72021996974945</td>\n",
       "      <td>30.8065390586853</td>\n",
       "      <td>-44.5345702171326</td>\n",
       "      <td>...</td>\n",
       "      <td>-11.8774635754526</td>\n",
       "      <td>7.73562116455287</td>\n",
       "      <td>-13.3850258216262</td>\n",
       "      <td>14.6785417348146</td>\n",
       "      <td>24.4209833592176</td>\n",
       "      <td>-8.91395534574986</td>\n",
       "      <td>-16.7131457701325</td>\n",
       "      <td>11.6524472758174</td>\n",
       "      <td>-16.6561478674412</td>\n",
       "      <td>-2.86735264956951</td>\n",
       "      <td>1.93162196874619</td>\n",
       "      <td>-7.18659728765488</td>\n",
       "      <td>-17.3669014051557</td>\n",
       "      <td>-16.675608932972</td>\n",
       "      <td>-5.12318405602127</td>\n",
       "      <td>-25.889378786087</td>\n",
       "      <td>-3.2129515260458</td>\n",
       "      <td>17.5611988827586</td>\n",
       "      <td>9.19471952319145</td>\n",
       "      <td>3.77253928780556</td>\n",
       "      <td>-26.7727954983711</td>\n",
       "      <td>0.467163741588592</td>\n",
       "      <td>-7.91911780834198</td>\n",
       "      <td>-4.52207556366921</td>\n",
       "      <td>19.2470599270891</td>\n",
       "      <td>17.9302244186401</td>\n",
       "      <td>-13.9538625329733</td>\n",
       "      <td>1.66944885626435</td>\n",
       "      <td>-5.61135149560869</td>\n",
       "      <td>-5.54588814079762</td>\n",
       "      <td>8.90462726354599</td>\n",
       "      <td>20.021293990314</td>\n",
       "      <td>-1.7597690820694</td>\n",
       "      <td>-2.44445772469044</td>\n",
       "      <td>10.5504274312407</td>\n",
       "      <td>3.94394192844629</td>\n",
       "      <td>-15.0324510037899</td>\n",
       "      <td>24.2937742471695</td>\n",
       "      <td>9.62614405155182</td>\n",
       "      <td>-1.76378478854895</td>\n",
       "    </tr>\n",
       "    <tr>\n",
       "      <th>5</th>\n",
       "      <td>0.399992000159997</td>\n",
       "      <td>0.333327777870369</td>\n",
       "      <td>0.499975001249937</td>\n",
       "      <td>0.166663888935184</td>\n",
       "      <td>0.374995312558593</td>\n",
       "      <td>0.249997916684028</td>\n",
       "      <td>0.0</td>\n",
       "      <td>0.0</td>\n",
       "      <td>4.0</td>\n",
       "      <td>10.0</td>\n",
       "      <td>56</td>\n",
       "      <td>52</td>\n",
       "      <td>50</td>\n",
       "      <td>53</td>\n",
       "      <td>0.230769230769231</td>\n",
       "      <td>1</td>\n",
       "      <td>1</td>\n",
       "      <td>51</td>\n",
       "      <td>54</td>\n",
       "      <td>8</td>\n",
       "      <td>12</td>\n",
       "      <td>3.0</td>\n",
       "      <td>19.0</td>\n",
       "      <td>0.157894736842105</td>\n",
       "      <td>2</td>\n",
       "      <td>0</td>\n",
       "      <td>9.85026514530182</td>\n",
       "      <td>102.39078104496</td>\n",
       "      <td>109.090137004852</td>\n",
       "      <td>10.8721338510513</td>\n",
       "      <td>-105.96025704639</td>\n",
       "      <td>110.994012653828</td>\n",
       "      <td>-58.5683436393738</td>\n",
       "      <td>-31.5997442007065</td>\n",
       "      <td>114.604485809803</td>\n",
       "      <td>-127.066118240356</td>\n",
       "      <td>-26.2889387607574</td>\n",
       "      <td>62.9757892489433</td>\n",
       "      <td>-17.7726374864578</td>\n",
       "      <td>-42.9101067781448</td>\n",
       "      <td>...</td>\n",
       "      <td>-10.9655911773443</td>\n",
       "      <td>-0.459929946810007</td>\n",
       "      <td>-16.3372512832284</td>\n",
       "      <td>16.2067023701966</td>\n",
       "      <td>15.1368726268411</td>\n",
       "      <td>-15.9765830636024</td>\n",
       "      <td>-15.4003917276859</td>\n",
       "      <td>9.4471592605114</td>\n",
       "      <td>-13.742881976068</td>\n",
       "      <td>-1.70835877582431</td>\n",
       "      <td>14.5827493049437</td>\n",
       "      <td>-17.7031090799719</td>\n",
       "      <td>-8.21848106384277</td>\n",
       "      <td>-20.4886628761888</td>\n",
       "      <td>-3.13873569667339</td>\n",
       "      <td>-20.9963827133179</td>\n",
       "      <td>-12.9269651789218</td>\n",
       "      <td>15.2717788517475</td>\n",
       "      <td>4.18653851747513</td>\n",
       "      <td>4.36394605785608</td>\n",
       "      <td>-23.0248131155968</td>\n",
       "      <td>-8.13356824964285</td>\n",
       "      <td>-8.67047789692879</td>\n",
       "      <td>-3.71836026012897</td>\n",
       "      <td>14.6491433233023</td>\n",
       "      <td>12.6750135794282</td>\n",
       "      <td>-4.87230254709721</td>\n",
       "      <td>7.0067712366581</td>\n",
       "      <td>-9.16881394386292</td>\n",
       "      <td>-9.65061098337174</td>\n",
       "      <td>5.47409308701754</td>\n",
       "      <td>10.3517794013023</td>\n",
       "      <td>0.223331005312502</td>\n",
       "      <td>-1.6587058454752</td>\n",
       "      <td>8.67418191768229</td>\n",
       "      <td>4.36688928306103</td>\n",
       "      <td>-6.9955610781908</td>\n",
       "      <td>11.3218600414693</td>\n",
       "      <td>17.5047041326761</td>\n",
       "      <td>-0.802240759134293</td>\n",
       "    </tr>\n",
       "  </tbody>\n",
       "</table>\n",
       "<p>5 rows × 794 columns</p>\n",
       "</div>"
      ],
      "text/plain": [
       "             cwc_min            cwc_max  ...               382_y               383_y\n",
       "1  0.999950002499875  0.181816528940646  ...   -3.12041002511978    1.29996086657047\n",
       "2  0.499987500312492  0.499987500312492  ...  -0.964614599943161    0.68968285061419\n",
       "3  0.666655555740738  0.571420408279882  ...   0.661315619945526    16.5347160324454\n",
       "4  0.599988000239995  0.499991666805553  ...    9.62614405155182   -1.76378478854895\n",
       "5  0.399992000159997  0.333327777870369  ...    17.5047041326761  -0.802240759134293\n",
       "\n",
       "[5 rows x 794 columns]"
      ]
     },
     "execution_count": 11,
     "metadata": {
      "tags": []
     },
     "output_type": "execute_result"
    }
   ],
   "source": [
    "data.head()"
   ]
  },
  {
   "cell_type": "markdown",
   "metadata": {
    "colab_type": "text",
    "id": "KaWHDzqUtASD"
   },
   "source": [
    "<h2> 4.2 Converting strings to numerics </h2>"
   ]
  },
  {
   "cell_type": "code",
   "execution_count": 0,
   "metadata": {
    "colab": {},
    "colab_type": "code",
    "id": "iLV60gkptASD"
   },
   "outputs": [],
   "source": [
    "# Faster and cleaner code\n",
    "data=data.astype(float)"
   ]
  },
  {
   "cell_type": "code",
   "execution_count": 0,
   "metadata": {
    "colab": {},
    "colab_type": "code",
    "id": "_LpfQwc9tASJ"
   },
   "outputs": [],
   "source": [
    "# https://stackoverflow.com/questions/7368789/convert-all-strings-in-a-list-to-int\n",
    "y_true = list(map(int, y_true.values))"
   ]
  },
  {
   "cell_type": "markdown",
   "metadata": {
    "colab_type": "text",
    "id": "CuMTqWGutASO"
   },
   "source": [
    "<h2> 4.3 Random train test split( 70:30) </h2>"
   ]
  },
  {
   "cell_type": "code",
   "execution_count": 0,
   "metadata": {
    "colab": {},
    "colab_type": "code",
    "id": "3Rat2obGtASP"
   },
   "outputs": [],
   "source": [
    "X_train,X_test, y_train, y_test = train_test_split(data, y_true, \n",
    "                                  stratify=y_true, test_size=0.3)"
   ]
  },
  {
   "cell_type": "code",
   "execution_count": 0,
   "metadata": {
    "colab": {
     "base_uri": "https://localhost:8080/",
     "height": 54
    },
    "colab_type": "code",
    "executionInfo": {
     "elapsed": 982,
     "status": "ok",
     "timestamp": 1569077778971,
     "user": {
      "displayName": "Prince",
      "photoUrl": "",
      "userId": "13948313668249168316"
     },
     "user_tz": -330
    },
    "id": "1Iw9zCHqtASS",
    "outputId": "250109a7-5d94-4f12-903d-2de1d8071c0c"
   },
   "outputs": [
    {
     "name": "stdout",
     "output_type": "stream",
     "text": [
      "Number of data points in train data : (35000, 794)\n",
      "Number of data points in test data : (15000, 794)\n"
     ]
    }
   ],
   "source": [
    "print(\"Number of data points in train data :\",X_train.shape)\n",
    "print(\"Number of data points in test data :\",X_test.shape)"
   ]
  },
  {
   "cell_type": "code",
   "execution_count": 0,
   "metadata": {
    "colab": {
     "base_uri": "https://localhost:8080/",
     "height": 90
    },
    "colab_type": "code",
    "executionInfo": {
     "elapsed": 986,
     "status": "ok",
     "timestamp": 1569077780172,
     "user": {
      "displayName": "Prince",
      "photoUrl": "",
      "userId": "13948313668249168316"
     },
     "user_tz": -330
    },
    "id": "0oDV15LJtASY",
    "outputId": "00ea5253-3065-4ed8-ba9f-56b8afb6f351"
   },
   "outputs": [
    {
     "name": "stdout",
     "output_type": "stream",
     "text": [
      "---------- Distribution of output variable in train data ----------\n",
      "Class 0:  0.6280571428571429 Class 1:  0.37194285714285713\n",
      "---------- Distribution of output variable in test data ----------\n",
      "Class 0:  0.37193333333333334 Class 1:  0.37193333333333334\n"
     ]
    }
   ],
   "source": [
    "print(\"-\"*10, \"Distribution of output variable in train data\", \"-\"*10)\n",
    "train_distr = Counter(y_train)\n",
    "train_len = len(y_train)\n",
    "print(\"Class 0: \",int(train_distr[0])/train_len,\"Class 1: \", int(train_distr[1])/train_len)\n",
    "print(\"-\"*10, \"Distribution of output variable in test data\", \"-\"*10)\n",
    "test_distr = Counter(y_test)\n",
    "test_len = len(y_test)\n",
    "print(\"Class 0: \",int(test_distr[1])/test_len, \"Class 1: \",int(test_distr[1])/test_len)"
   ]
  },
  {
   "cell_type": "code",
   "execution_count": 0,
   "metadata": {
    "colab": {},
    "colab_type": "code",
    "id": "XfxcPT6jtASg"
   },
   "outputs": [],
   "source": [
    "# This function plots the confusion matrices given y_i, y_i_hat.\n",
    "def plot_confusion_matrix(test_y, predict_y):\n",
    "    C = confusion_matrix(test_y, predict_y)\n",
    "    A =(((C.T)/(C.sum(axis=1))).T)\n",
    "    B =(C/C.sum(axis=0))\n",
    "    plt.figure(figsize=(20,4))\n",
    "    \n",
    "    labels = [1,2]\n",
    "    # representing A in heatmap format\n",
    "    cmap=sns.light_palette(\"blue\")\n",
    "    plt.subplot(1, 3, 1)\n",
    "    sns.heatmap(C, annot=True, cmap=cmap, fmt=\".3f\", xticklabels=labels, yticklabels=labels)\n",
    "    plt.xlabel('Predicted Class')\n",
    "    plt.ylabel('Original Class')\n",
    "    plt.title(\"Confusion matrix\")\n",
    "    \n",
    "    plt.subplot(1, 3, 2)\n",
    "    sns.heatmap(B, annot=True, cmap=cmap, fmt=\".3f\", xticklabels=labels, yticklabels=labels)\n",
    "    plt.xlabel('Predicted Class')\n",
    "    plt.ylabel('Original Class')\n",
    "    plt.title(\"Precision matrix\")\n",
    "    \n",
    "    plt.subplot(1, 3, 3)\n",
    "    # representing B in heatmap format\n",
    "    sns.heatmap(A, annot=True, cmap=cmap, fmt=\".3f\", xticklabels=labels, yticklabels=labels)\n",
    "    plt.xlabel('Predicted Class')\n",
    "    plt.ylabel('Original Class')\n",
    "    plt.title(\"Recall matrix\")\n",
    "    \n",
    "    plt.show()"
   ]
  },
  {
   "cell_type": "markdown",
   "metadata": {
    "colab_type": "text",
    "id": "UStQJ5F_tASk"
   },
   "source": [
    "<h2> 4.4 Building a random model (Finding worst-case log-loss) </h2>"
   ]
  },
  {
   "cell_type": "code",
   "execution_count": 0,
   "metadata": {
    "colab": {
     "base_uri": "https://localhost:8080/",
     "height": 334
    },
    "colab_type": "code",
    "executionInfo": {
     "elapsed": 2397,
     "status": "ok",
     "timestamp": 1568481551560,
     "user": {
      "displayName": "Prince",
      "photoUrl": "",
      "userId": "13948313668249168316"
     },
     "user_tz": -330
    },
    "id": "qwMDqcU7tASl",
    "outputId": "32010563-f839-4f30-9330-9e38bb0f9eb0"
   },
   "outputs": [
    {
     "name": "stdout",
     "output_type": "stream",
     "text": [
      "Log loss on Test Data using Random Model 0.8869456220491898\n"
     ]
    },
    {
     "data": {
      "image/png": "[encoded data removed]",
      "text/plain": [
       "<Figure size 1440x288 with 6 Axes>"
      ]
     },
     "metadata": {
      "tags": []
     },
     "output_type": "display_data"
    }
   ],
   "source": [
    "predicted_y = np.zeros((test_len,2))\n",
    "for i in range(test_len):\n",
    "    rand_probs = np.random.rand(1,2)\n",
    "    predicted_y[i] = ((rand_probs/sum(sum(rand_probs)))[0])\n",
    "print(\"Log loss on Test Data using Random Model\",log_loss(y_test, predicted_y, eps=1e-15))\n",
    "\n",
    "predicted_y =np.argmax(predicted_y, axis=1)\n",
    "plot_confusion_matrix(y_test, predicted_y)"
   ]
  },
  {
   "cell_type": "markdown",
   "metadata": {
    "colab_type": "text",
    "id": "YgY29g_qtASq"
   },
   "source": [
    "<h2> 4.4 Logistic Regression with hyperparameter tuning </h2>"
   ]
  },
  {
   "cell_type": "code",
   "execution_count": 0,
   "metadata": {
    "colab": {
     "base_uri": "https://localhost:8080/",
     "height": 775
    },
    "colab_type": "code",
    "executionInfo": {
     "elapsed": 1087798,
     "status": "ok",
     "timestamp": 1568482647466,
     "user": {
      "displayName": "Prince",
      "photoUrl": "",
      "userId": "13948313668249168316"
     },
     "user_tz": -330
    },
    "id": "Wb2tOE3GtASr",
    "outputId": "6cc83fde-e8a9-46e8-f794-c683c846eab2"
   },
   "outputs": [
    {
     "name": "stdout",
     "output_type": "stream",
     "text": [
      "For values of alpha =  1e-05 The log loss is: 0.56662713178077\n",
      "For values of alpha =  0.0001 The log loss is: 0.45626538982765824\n",
      "For values of alpha =  0.001 The log loss is: 0.451440451281298\n",
      "For values of alpha =  0.01 The log loss is: 0.44340750607505\n",
      "For values of alpha =  0.1 The log loss is: 0.4414283106295279\n",
      "For values of alpha =  1 The log loss is: 0.46537051003351315\n",
      "For values of alpha =  10 The log loss is: 0.5084292621090118\n"
     ]
    },
    {
     "data": {
      "image/png": "[encoded data removed]",
      "text/plain": [
       "<Figure size 432x288 with 1 Axes>"
      ]
     },
     "metadata": {
      "tags": []
     },
     "output_type": "display_data"
    },
    {
     "name": "stdout",
     "output_type": "stream",
     "text": [
      "For values of best alpha =  0.1 The train log loss is: 0.43291199173090306\n",
      "For values of best alpha =  0.1 The test log loss is: 0.4414283106295279\n",
      "Total number of data points : 30000\n"
     ]
    },
    {
     "data": {
      "image/png": "[encoded data removed]",
      "text/plain": [
       "<Figure size 1440x288 with 6 Axes>"
      ]
     },
     "metadata": {
      "tags": []
     },
     "output_type": "display_data"
    }
   ],
   "source": [
    "alpha = [10 ** x for x in range(-5, 2)] # hyperparam for SGD classifier.\n",
    "\n",
    "log_error_array=[]\n",
    "for i in alpha:\n",
    "    clf = SGDClassifier(alpha=i, penalty='l2', loss='log', random_state=42)\n",
    "    clf.fit(X_train, y_train)\n",
    "    sig_clf = CalibratedClassifierCV(clf, method=\"sigmoid\")\n",
    "    sig_clf.fit(X_train, y_train)\n",
    "    predict_y = sig_clf.predict_proba(X_test)\n",
    "    log_error_array.append(log_loss(y_test, predict_y, labels=clf.classes_, eps=1e-15))\n",
    "    print('For values of alpha = ', i, \"The log loss is:\",log_loss(y_test, predict_y, labels=clf.classes_, eps=1e-15))\n",
    "\n",
    "fig, ax = plt.subplots()\n",
    "ax.plot(alpha, log_error_array,c='g')\n",
    "for i, txt in enumerate(np.round(log_error_array,3)):\n",
    "    ax.annotate((alpha[i],np.round(txt,3)), (alpha[i],log_error_array[i]))\n",
    "plt.grid()\n",
    "plt.title(\"Cross Validation Error for each alpha\")\n",
    "plt.xlabel(\"Alpha i's\")\n",
    "plt.ylabel(\"Error measure\")\n",
    "plt.show()\n",
    "\n",
    "\n",
    "best_alpha = np.argmin(log_error_array)\n",
    "clf = SGDClassifier(alpha=alpha[best_alpha], penalty='l2', loss='log', random_state=42)\n",
    "clf.fit(X_train, y_train)\n",
    "sig_clf = CalibratedClassifierCV(clf, method=\"sigmoid\")\n",
    "sig_clf.fit(X_train, y_train)\n",
    "\n",
    "predict_y = sig_clf.predict_proba(X_train)\n",
    "print('For values of best alpha = ', alpha[best_alpha], \"The train log loss is:\",log_loss(y_train, predict_y, labels=clf.classes_, eps=1e-15))\n",
    "predict_y = sig_clf.predict_proba(X_test)\n",
    "print('For values of best alpha = ', alpha[best_alpha], \"The test log loss is:\",log_loss(y_test, predict_y, labels=clf.classes_, eps=1e-15))\n",
    "predicted_y =np.argmax(predict_y,axis=1)\n",
    "print(\"Total number of data points :\", len(predicted_y))\n",
    "plot_confusion_matrix(y_test, predicted_y)"
   ]
  },
  {
   "cell_type": "markdown",
   "metadata": {
    "colab_type": "text",
    "id": "ouQSEnr3tASy"
   },
   "source": [
    "<h2> 4.5 Linear SVM with hyperparameter tuning </h2>"
   ]
  },
  {
   "cell_type": "code",
   "execution_count": 0,
   "metadata": {
    "colab": {},
    "colab_type": "code",
    "id": "AOFfZ5PLtAS0",
    "outputId": "d31eb598-e275-48cb-c49b-98e9eb76d8ba"
   },
   "outputs": [
    {
     "name": "stdout",
     "output_type": "stream",
     "text": [
      "For values of alpha =  1e-05 The log loss is: 0.657611721261\n",
      "For values of alpha =  0.0001 The log loss is: 0.489669093534\n",
      "For values of alpha =  0.001 The log loss is: 0.521829068562\n",
      "For values of alpha =  0.01 The log loss is: 0.566295616914\n",
      "For values of alpha =  0.1 The log loss is: 0.599957866217\n",
      "For values of alpha =  1 The log loss is: 0.635059427016\n",
      "For values of alpha =  10 The log loss is: 0.654159467907\n"
     ]
    },
    {
     "data": {
      "image/png": "[encoded data removed]",
      "text/plain": [
       "<matplotlib.figure.Figure at 0x2568b154438>"
      ]
     },
     "metadata": {
      "tags": []
     },
     "output_type": "display_data"
    },
    {
     "name": "stdout",
     "output_type": "stream",
     "text": [
      "For values of best alpha =  0.0001 The train log loss is: 0.478054677285\n",
      "For values of best alpha =  0.0001 The test log loss is: 0.489669093534\n",
      "Total number of data points : 30000\n"
     ]
    },
    {
     "data": {
      "image/png": "[encoded data removed]",
      "text/plain": [
       "<matplotlib.figure.Figure at 0x2567423deb8>"
      ]
     },
     "metadata": {
      "tags": []
     },
     "output_type": "display_data"
    }
   ],
   "source": [
    "alpha = [10 ** x for x in range(-5, 2)] # hyperparam for SGD classifier.\n",
    "\n",
    "log_error_array=[]\n",
    "for i in alpha:\n",
    "    clf = SGDClassifier(alpha=i, penalty='l1', loss='hinge', random_state=42)\n",
    "    clf.fit(X_train, y_train)\n",
    "    sig_clf = CalibratedClassifierCV(clf, method=\"sigmoid\")\n",
    "    sig_clf.fit(X_train, y_train)\n",
    "    predict_y = sig_clf.predict_proba(X_test)\n",
    "    log_error_array.append(log_loss(y_test, predict_y, labels=clf.classes_, eps=1e-15))\n",
    "    print('For values of alpha = ', i, \"The log loss is:\",log_loss(y_test, predict_y, labels=clf.classes_, eps=1e-15))\n",
    "\n",
    "fig, ax = plt.subplots()\n",
    "ax.plot(alpha, log_error_array,c='g')\n",
    "for i, txt in enumerate(np.round(log_error_array,3)):\n",
    "    ax.annotate((alpha[i],np.round(txt,3)), (alpha[i],log_error_array[i]))\n",
    "plt.grid()\n",
    "plt.title(\"Cross Validation Error for each alpha\")\n",
    "plt.xlabel(\"Alpha i's\")\n",
    "plt.ylabel(\"Error measure\")\n",
    "plt.show()\n",
    "\n",
    "\n",
    "best_alpha = np.argmin(log_error_array)\n",
    "clf = SGDClassifier(alpha=alpha[best_alpha], penalty='l1', loss='hinge', random_state=42)\n",
    "clf.fit(X_train, y_train)\n",
    "sig_clf = CalibratedClassifierCV(clf, method=\"sigmoid\")\n",
    "sig_clf.fit(X_train, y_train)\n",
    "\n",
    "predict_y = sig_clf.predict_proba(X_train)\n",
    "print('For values of best alpha = ', alpha[best_alpha], \"The train log loss is:\",log_loss(y_train, predict_y, labels=clf.classes_, eps=1e-15))\n",
    "predict_y = sig_clf.predict_proba(X_test)\n",
    "print('For values of best alpha = ', alpha[best_alpha], \"The test log loss is:\",log_loss(y_test, predict_y, labels=clf.classes_, eps=1e-15))\n",
    "predicted_y =np.argmax(predict_y,axis=1)\n",
    "print(\"Total number of data points :\", len(predicted_y))\n",
    "plot_confusion_matrix(y_test, predicted_y)"
   ]
  },
  {
   "cell_type": "markdown",
   "metadata": {
    "colab_type": "text",
    "id": "ZhTJgclztAS6"
   },
   "source": [
    "<h2> 4.6 XGBoost </h2>"
   ]
  },
  {
   "cell_type": "code",
   "execution_count": 0,
   "metadata": {
    "colab": {},
    "colab_type": "code",
    "id": "9U367-xetAS7"
   },
   "outputs": [],
   "source": [
    "import xgboost as xgb\n",
    "params = {}\n",
    "params['objective'] = 'binary:logistic'\n",
    "params['eval_metric'] = 'logloss'\n",
    "params['eta'] = 0.02\n",
    "params['max_depth'] = 4\n",
    "\n",
    "d_train = xgb.DMatrix(X_train, label=y_train)\n",
    "d_test = xgb.DMatrix(X_test, label=y_test)\n",
    "\n",
    "watchlist = [(d_train, 'train'), (d_test, 'valid')]\n",
    "\n",
    "bst = xgb.train(params, d_train, 400, watchlist, early_stopping_rounds=20,\n",
    "                verbose_eval=10)\n",
    "\n",
    "xgdmat = xgb.DMatrix(X_train,y_train)\n",
    "predict_y = bst.predict(d_test)\n",
    "print(\"The test log loss is:\",log_loss(y_test, predict_y, eps=1e-15))"
   ]
  },
  {
   "cell_type": "code",
   "execution_count": 0,
   "metadata": {
    "colab": {},
    "colab_type": "code",
    "id": "6U5b17AatAS_",
    "outputId": "ca83b680-023b-4bc5-f499-8d8d85c2ff5e"
   },
   "outputs": [
    {
     "name": "stdout",
     "output_type": "stream",
     "text": [
      "Total number of data points : 30000\n"
     ]
    },
    {
     "data": {
      "image/png": "[encoded data removed]",
      "text/plain": [
       "<matplotlib.figure.Figure at 0x2567e903cf8>"
      ]
     },
     "metadata": {
      "tags": []
     },
     "output_type": "display_data"
    }
   ],
   "source": [
    "predicted_y =np.array(predict_y>0.5,dtype=int)\n",
    "print(\"Total number of data points :\", len(predicted_y))\n",
    "plot_confusion_matrix(y_test, predicted_y)"
   ]
  },
  {
   "cell_type": "code",
   "execution_count": null,
   "metadata": {},
   "outputs": [],
   "source": []
  },
  {
   "cell_type": "code",
   "execution_count": null,
   "metadata": {},
   "outputs": [],
   "source": []
  }
 ],
 "metadata": {
  "accelerator": "GPU",
  "colab": {
   "collapsed_sections": [],
   "name": "Copy of 4.ML_models.ipynb",
   "provenance": []
  },
  "kernelspec": {
   "display_name": "Python 3",
   "language": "python",
   "name": "python3"
  },
  "language_info": {
   "codemirror_mode": {
    "name": "ipython",
    "version": 3
   },
   "file_extension": ".py",
   "mimetype": "text/x-python",
   "name": "python",
   "nbconvert_exporter": "python",
   "pygments_lexer": "ipython3",
   "version": "3.8.3"
  }
 },
 "nbformat": 4,
 "nbformat_minor": 1
}
